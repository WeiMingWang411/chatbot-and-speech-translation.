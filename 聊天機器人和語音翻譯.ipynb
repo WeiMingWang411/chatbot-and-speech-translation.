{
 "cells": [
  {
   "cell_type": "code",
   "execution_count": 3,
   "id": "f16d3613-b2e8-4da4-9e12-af5b24a45f5d",
   "metadata": {},
   "outputs": [
    {
     "name": "stdout",
     "output_type": "stream",
     "text": [
      "Requirement already satisfied: SpeechRecognition in /opt/anaconda3/lib/python3.11/site-packages (3.10.3)\n",
      "Requirement already satisfied: requests>=2.26.0 in /opt/anaconda3/lib/python3.11/site-packages (from SpeechRecognition) (2.31.0)\n",
      "Requirement already satisfied: typing-extensions in /opt/anaconda3/lib/python3.11/site-packages (from SpeechRecognition) (4.9.0)\n",
      "Requirement already satisfied: charset-normalizer<4,>=2 in /opt/anaconda3/lib/python3.11/site-packages (from requests>=2.26.0->SpeechRecognition) (2.0.4)\n",
      "Requirement already satisfied: idna<4,>=2.5 in /opt/anaconda3/lib/python3.11/site-packages (from requests>=2.26.0->SpeechRecognition) (3.4)\n",
      "Requirement already satisfied: urllib3<3,>=1.21.1 in /opt/anaconda3/lib/python3.11/site-packages (from requests>=2.26.0->SpeechRecognition) (2.0.7)\n",
      "Requirement already satisfied: certifi>=2017.4.17 in /opt/anaconda3/lib/python3.11/site-packages (from requests>=2.26.0->SpeechRecognition) (2024.2.2)\n",
      "Note: you may need to restart the kernel to use updated packages.\n"
     ]
    }
   ],
   "source": [
    "pip install SpeechRecognition"
   ]
  },
  {
   "cell_type": "code",
   "execution_count": 4,
   "id": "315dc31f-a51f-47c4-b6f0-5bc66255098f",
   "metadata": {},
   "outputs": [
    {
     "name": "stdout",
     "output_type": "stream",
     "text": [
      "Collecting pipwin\n",
      "  Downloading pipwin-0.5.2.tar.gz (7.9 kB)\n",
      "  Preparing metadata (setup.py) ... \u001b[?25ldone\n",
      "\u001b[?25hCollecting docopt (from pipwin)\n",
      "  Downloading docopt-0.6.2.tar.gz (25 kB)\n",
      "  Preparing metadata (setup.py) ... \u001b[?25ldone\n",
      "\u001b[?25hRequirement already satisfied: requests in /opt/anaconda3/lib/python3.11/site-packages (from pipwin) (2.31.0)\n",
      "Collecting pyprind (from pipwin)\n",
      "  Downloading PyPrind-2.11.3-py2.py3-none-any.whl.metadata (1.1 kB)\n",
      "Requirement already satisfied: six in /opt/anaconda3/lib/python3.11/site-packages (from pipwin) (1.16.0)\n",
      "Requirement already satisfied: beautifulsoup4>=4.9.0 in /opt/anaconda3/lib/python3.11/site-packages (from pipwin) (4.12.2)\n",
      "Collecting js2py (from pipwin)\n",
      "  Downloading Js2Py-0.74-py3-none-any.whl.metadata (868 bytes)\n",
      "Requirement already satisfied: packaging in /opt/anaconda3/lib/python3.11/site-packages (from pipwin) (23.1)\n",
      "Collecting pySmartDL>=1.3.1 (from pipwin)\n",
      "  Downloading pySmartDL-1.3.4-py3-none-any.whl.metadata (2.8 kB)\n",
      "Requirement already satisfied: soupsieve>1.2 in /opt/anaconda3/lib/python3.11/site-packages (from beautifulsoup4>=4.9.0->pipwin) (2.5)\n",
      "Requirement already satisfied: tzlocal>=1.2 in /opt/anaconda3/lib/python3.11/site-packages (from js2py->pipwin) (2.1)\n",
      "Collecting pyjsparser>=2.5.1 (from js2py->pipwin)\n",
      "  Downloading pyjsparser-2.7.1.tar.gz (24 kB)\n",
      "  Preparing metadata (setup.py) ... \u001b[?25ldone\n",
      "\u001b[?25hRequirement already satisfied: charset-normalizer<4,>=2 in /opt/anaconda3/lib/python3.11/site-packages (from requests->pipwin) (2.0.4)\n",
      "Requirement already satisfied: idna<4,>=2.5 in /opt/anaconda3/lib/python3.11/site-packages (from requests->pipwin) (3.4)\n",
      "Requirement already satisfied: urllib3<3,>=1.21.1 in /opt/anaconda3/lib/python3.11/site-packages (from requests->pipwin) (2.0.7)\n",
      "Requirement already satisfied: certifi>=2017.4.17 in /opt/anaconda3/lib/python3.11/site-packages (from requests->pipwin) (2024.2.2)\n",
      "Requirement already satisfied: pytz in /opt/anaconda3/lib/python3.11/site-packages (from tzlocal>=1.2->js2py->pipwin) (2023.3.post1)\n",
      "Downloading pySmartDL-1.3.4-py3-none-any.whl (20 kB)\n",
      "Downloading Js2Py-0.74-py3-none-any.whl (1.0 MB)\n",
      "\u001b[2K   \u001b[90m━━━━━━━━━━━━━━━━━━━━━━━━━━━━━━━━━━━━━━━━\u001b[0m \u001b[32m1.0/1.0 MB\u001b[0m \u001b[31m2.3 MB/s\u001b[0m eta \u001b[36m0:00:00\u001b[0m00:01\u001b[0m00:01\u001b[0m0m\n",
      "\u001b[?25hDownloading PyPrind-2.11.3-py2.py3-none-any.whl (8.4 kB)\n",
      "Building wheels for collected packages: pipwin, docopt, pyjsparser\n",
      "  Building wheel for pipwin (setup.py) ... \u001b[?25ldone\n",
      "\u001b[?25h  Created wheel for pipwin: filename=pipwin-0.5.2-py2.py3-none-any.whl size=8769 sha256=a559ed2add526b8d7734341b2e70fb8707288b69d2dccf0a3f6dc0a3f262e73e\n",
      "  Stored in directory: /Users/wangyuzheng/Library/Caches/pip/wheels/07/45/2e/51ee464b7c3407327439df34c2fc62f978a1e5084aaf23d201\n",
      "  Building wheel for docopt (setup.py) ... \u001b[?25ldone\n",
      "\u001b[?25h  Created wheel for docopt: filename=docopt-0.6.2-py2.py3-none-any.whl size=13705 sha256=ad26da6a520af3443b41f7cc1de6af9e040ccded6ead35d29db3773d1c6bde8f\n",
      "  Stored in directory: /Users/wangyuzheng/Library/Caches/pip/wheels/1a/b0/8c/4b75c4116c31f83c8f9f047231251e13cc74481cca4a78a9ce\n",
      "  Building wheel for pyjsparser (setup.py) ... \u001b[?25ldone\n",
      "\u001b[?25h  Created wheel for pyjsparser: filename=pyjsparser-2.7.1-py3-none-any.whl size=25982 sha256=d5daa5591c649f6288c202c7fbd715e9ba3572f6b1d92e9600ce99b29796e102\n",
      "  Stored in directory: /Users/wangyuzheng/Library/Caches/pip/wheels/a5/9a/30/1003e89ab4555b81840ca46d361bf184f1e6ad880cae3b62a9\n",
      "Successfully built pipwin docopt pyjsparser\n",
      "Installing collected packages: pySmartDL, pyprind, pyjsparser, docopt, js2py, pipwin\n",
      "Successfully installed docopt-0.6.2 js2py-0.74 pipwin-0.5.2 pySmartDL-1.3.4 pyjsparser-2.7.1 pyprind-2.11.3\n",
      "Note: you may need to restart the kernel to use updated packages.\n"
     ]
    }
   ],
   "source": [
    "pip install pipwin"
   ]
  },
  {
   "cell_type": "code",
   "execution_count": 8,
   "id": "5be8cd36-ecf1-4168-bdac-8a776e06f959",
   "metadata": {},
   "outputs": [
    {
     "name": "stdout",
     "output_type": "stream",
     "text": [
      "zsh:1: command not found: pipwiw\n"
     ]
    }
   ],
   "source": [
    "!pipwiw install PyAudio"
   ]
  },
  {
   "cell_type": "code",
   "execution_count": 1,
   "id": "45d701bf-e01e-48de-80f4-3357055a6455",
   "metadata": {},
   "outputs": [
    {
     "name": "stdout",
     "output_type": "stream",
     "text": [
      "Collecting winspeech\n",
      "  Using cached winspeech-1.0.1-py2.py3-none-any.whl.metadata (2.2 kB)\n",
      "INFO: pip is looking at multiple versions of winspeech to determine which version is compatible with other requirements. This could take a while.\n",
      "\u001b[31mERROR: Could not find a version that satisfies the requirement pywin32 (from winspeech) (from versions: none)\u001b[0m\u001b[31m\n",
      "\u001b[0m\u001b[31mERROR: No matching distribution found for pywin32\u001b[0m\u001b[31m\n",
      "\u001b[0m"
     ]
    }
   ],
   "source": [
    "!pip install winspeech"
   ]
  },
  {
   "cell_type": "code",
   "execution_count": 19,
   "id": "d4cb3a53-bc25-4880-a5b8-4e0d226c7a74",
   "metadata": {},
   "outputs": [],
   "source": [
    "import speech_recognition\n",
    "def listenTo(): \n",
    "    r=speech_recognition.Recognizer()\n",
    "    with speech_recognition.Microphone() as source:\n",
    "        r.adjust_for_ambient_noise(source)\n",
    "        audio=r.listen(source)\n",
    "    return r.recognize_google(audio,language='zh-TW')"
   ]
  },
  {
   "cell_type": "code",
   "execution_count": 13,
   "id": "643f8b24-2e2e-489b-9822-a1542a7cde37",
   "metadata": {},
   "outputs": [],
   "source": [
    "import tempfile\n",
    "from gtts import gTTS\n",
    "from pygame import mixer\n",
    "mixer.init()"
   ]
  },
  {
   "cell_type": "code",
   "execution_count": 14,
   "id": "c331a522-1492-4348-a7c1-abdb9b2f396d",
   "metadata": {},
   "outputs": [],
   "source": [
    "def speak(sentence):\n",
    "    with tempfile.NamedTemporaryFile(delete=True) as fp:\n",
    "        tts=gTTS(text=sentence, lang='zh-TW')\n",
    "        tts.save(\"{}.mp3\".format(fp.name))\n",
    "        mixer.music.load('{}.mp3'.format(fp.name))\n",
    "        mixer.music.play()\n",
    "speak('大家好')"
   ]
  },
  {
   "cell_type": "code",
   "execution_count": 15,
   "id": "3134e7a0-34e7-4925-bc66-bb8b768b23c0",
   "metadata": {},
   "outputs": [],
   "source": [
    "qa={'你叫什麼名字':'我叫谷歌妹','請問你幾歲了':'小女子今年才99歲囉！','你最喜歡的人是誰':'我最喜歡王同學'}"
   ]
  },
  {
   "cell_type": "code",
   "execution_count": 21,
   "id": "18f70822-b2b7-41c6-ab11-5960a339cde4",
   "metadata": {},
   "outputs": [],
   "source": [
    "speak(qa.get(listenTo(),'聽不懂，再輸入更多台詞'))"
   ]
  },
  {
   "cell_type": "code",
   "execution_count": 31,
   "id": "942b1ac8-9d6e-41ea-a9a8-282a2c3a09aa",
   "metadata": {},
   "outputs": [
    {
     "name": "stdout",
     "output_type": "stream",
     "text": [
      "Collecting googletrans==3.1.0a0\n",
      "  Downloading googletrans-3.1.0a0.tar.gz (19 kB)\n",
      "  Preparing metadata (setup.py) ... \u001b[?25ldone\n",
      "\u001b[?25hRequirement already satisfied: httpx==0.13.3 in /opt/anaconda3/lib/python3.11/site-packages (from googletrans==3.1.0a0) (0.13.3)\n",
      "Requirement already satisfied: certifi in /opt/anaconda3/lib/python3.11/site-packages (from httpx==0.13.3->googletrans==3.1.0a0) (2024.2.2)\n",
      "Requirement already satisfied: hstspreload in /opt/anaconda3/lib/python3.11/site-packages (from httpx==0.13.3->googletrans==3.1.0a0) (2024.5.1)\n",
      "Requirement already satisfied: sniffio in /opt/anaconda3/lib/python3.11/site-packages (from httpx==0.13.3->googletrans==3.1.0a0) (1.3.0)\n",
      "Requirement already satisfied: chardet==3.* in /opt/anaconda3/lib/python3.11/site-packages (from httpx==0.13.3->googletrans==3.1.0a0) (3.0.4)\n",
      "Requirement already satisfied: idna==2.* in /opt/anaconda3/lib/python3.11/site-packages (from httpx==0.13.3->googletrans==3.1.0a0) (2.10)\n",
      "Requirement already satisfied: rfc3986<2,>=1.3 in /opt/anaconda3/lib/python3.11/site-packages (from httpx==0.13.3->googletrans==3.1.0a0) (1.5.0)\n",
      "Requirement already satisfied: httpcore==0.9.* in /opt/anaconda3/lib/python3.11/site-packages (from httpx==0.13.3->googletrans==3.1.0a0) (0.9.1)\n",
      "Requirement already satisfied: h11<0.10,>=0.8 in /opt/anaconda3/lib/python3.11/site-packages (from httpcore==0.9.*->httpx==0.13.3->googletrans==3.1.0a0) (0.9.0)\n",
      "Requirement already satisfied: h2==3.* in /opt/anaconda3/lib/python3.11/site-packages (from httpcore==0.9.*->httpx==0.13.3->googletrans==3.1.0a0) (3.2.0)\n",
      "Requirement already satisfied: hyperframe<6,>=5.2.0 in /opt/anaconda3/lib/python3.11/site-packages (from h2==3.*->httpcore==0.9.*->httpx==0.13.3->googletrans==3.1.0a0) (5.2.0)\n",
      "Requirement already satisfied: hpack<4,>=3.0 in /opt/anaconda3/lib/python3.11/site-packages (from h2==3.*->httpcore==0.9.*->httpx==0.13.3->googletrans==3.1.0a0) (3.0.0)\n",
      "Building wheels for collected packages: googletrans\n",
      "  Building wheel for googletrans (setup.py) ... \u001b[?25ldone\n",
      "\u001b[?25h  Created wheel for googletrans: filename=googletrans-3.1.0a0-py3-none-any.whl size=16352 sha256=f0d608813c3c5de55314bda7df0bd15227d42a48a326ca7eaa51e2d4daffab22\n",
      "  Stored in directory: /Users/wangyuzheng/Library/Caches/pip/wheels/81/f2/e0/d578821d723b473d18610ea93810e4a5402463919f07e603d9\n",
      "Successfully built googletrans\n",
      "Installing collected packages: googletrans\n",
      "  Attempting uninstall: googletrans\n",
      "    Found existing installation: googletrans 3.0.0\n",
      "    Uninstalling googletrans-3.0.0:\n",
      "      Successfully uninstalled googletrans-3.0.0\n",
      "Successfully installed googletrans-3.1.0a0\n"
     ]
    }
   ],
   "source": [
    "!pip install googletrans==3.1.0a0"
   ]
  },
  {
   "cell_type": "code",
   "execution_count": 2,
   "id": "ae339943-ccf7-4af7-b183-be28f07525ba",
   "metadata": {},
   "outputs": [
    {
     "name": "stdout",
     "output_type": "stream",
     "text": [
      "pygame 2.5.2 (SDL 2.28.3, Python 3.11.7)\n",
      "Hello from the pygame community. https://www.pygame.org/contribute.html\n"
     ]
    }
   ],
   "source": [
    "import speech_recognition\n",
    "import tempfile\n",
    "from gtts import gTTS\n",
    "from pygame import mixer\n",
    "from googletrans import Translator"
   ]
  },
  {
   "cell_type": "code",
   "execution_count": 5,
   "id": "b4d76cb8-5051-4b4e-bd53-b2bbeda9681f",
   "metadata": {},
   "outputs": [],
   "source": [
    "def listenTo(): \n",
    "    r=speech_recognition.Recognizer()\n",
    "    with speech_recognition.Microphone() as source:\n",
    "        r.adjust_for_ambient_noise(source)\n",
    "        audio=r.listen(source)\n",
    "    return r.recognize_google(audio,language='zh-TW')"
   ]
  },
  {
   "cell_type": "code",
   "execution_count": 6,
   "id": "d55e2b38-7302-412f-adeb-d6c0cf4756a5",
   "metadata": {},
   "outputs": [],
   "source": [
    "def speak(sentence,lang):\n",
    "    mixer.init()\n",
    "    with tempfile.NamedTemporaryFile(delete=True) as fp:\n",
    "        tts=gTTS(text=sentence, lang=lang)\n",
    "        tts.save(\"{}.mp3\".format(fp.name))\n",
    "        mixer.music.load('{}.mp3'.format(fp.name))\n",
    "        mixer.music.play()"
   ]
  },
  {
   "cell_type": "code",
   "execution_count": 3,
   "id": "baaa0d46-0e7f-4529-9f81-1f26d7776911",
   "metadata": {
    "scrolled": true
   },
   "outputs": [
    {
     "data": {
      "text/plain": [
       "'Hello everyone'"
      ]
     },
     "execution_count": 3,
     "metadata": {},
     "output_type": "execute_result"
    }
   ],
   "source": [
    "translator=Translator()\n",
    "translator.translate('大家好',dest='en').text"
   ]
  },
  {
   "cell_type": "code",
   "execution_count": 8,
   "id": "32547b3b-d40b-43c7-b1ce-5df7ff1d4540",
   "metadata": {},
   "outputs": [
    {
     "name": "stdout",
     "output_type": "stream",
     "text": [
      "こんにちは、みんな\n",
      "Translated(src=ja, dest=ja, text=こんにちは、みんな, pronunciation=Kon'nichiwa, min'na, extra_data=\"{'translat...\")\n"
     ]
    }
   ],
   "source": [
    "lang='ja'\n",
    "A=translator.translate(listenTo(),lang).text\n",
    "speak(A,lang)\n",
    "print(A)\n",
    "B=translator.translate(A,dest='ja')\n",
    "print(B)"
   ]
  },
  {
   "cell_type": "code",
   "execution_count": 9,
   "id": "5738b795-0fd2-441d-b333-d56d1ad9ff0c",
   "metadata": {},
   "outputs": [
    {
     "name": "stdout",
     "output_type": "stream",
     "text": [
      "여러분, 안녕하세요\n",
      "Translated(src=ko, dest=ko, text=여러분, 안녕하세요, pronunciation=yeoleobun, annyeonghaseyo, extra_data=\"{'translat...\")\n"
     ]
    }
   ],
   "source": [
    "lang='ko'\n",
    "A=translator.translate(listenTo(),lang).text\n",
    "speak(A,lang)\n",
    "print(A)\n",
    "B=translator.translate(A,dest='ko')\n",
    "print(B)"
   ]
  },
  {
   "cell_type": "code",
   "execution_count": 10,
   "id": "9e4f8084-9d85-4c64-a9a5-48da7f462e62",
   "metadata": {
    "scrolled": true
   },
   "outputs": [
    {
     "name": "stdout",
     "output_type": "stream",
     "text": [
      "{'afrikaans': 'af',\n",
      " 'albanian': 'sq',\n",
      " 'amharic': 'am',\n",
      " 'arabic': 'ar',\n",
      " 'armenian': 'hy',\n",
      " 'azerbaijani': 'az',\n",
      " 'basque': 'eu',\n",
      " 'belarusian': 'be',\n",
      " 'bengali': 'bn',\n",
      " 'bosnian': 'bs',\n",
      " 'bulgarian': 'bg',\n",
      " 'catalan': 'ca',\n",
      " 'cebuano': 'ceb',\n",
      " 'chichewa': 'ny',\n",
      " 'chinese (simplified)': 'zh-cn',\n",
      " 'chinese (traditional)': 'zh-tw',\n",
      " 'corsican': 'co',\n",
      " 'croatian': 'hr',\n",
      " 'czech': 'cs',\n",
      " 'danish': 'da',\n",
      " 'dutch': 'nl',\n",
      " 'english': 'en',\n",
      " 'esperanto': 'eo',\n",
      " 'estonian': 'et',\n",
      " 'filipino': 'tl',\n",
      " 'finnish': 'fi',\n",
      " 'french': 'fr',\n",
      " 'frisian': 'fy',\n",
      " 'galician': 'gl',\n",
      " 'georgian': 'ka',\n",
      " 'german': 'de',\n",
      " 'greek': 'el',\n",
      " 'gujarati': 'gu',\n",
      " 'haitian creole': 'ht',\n",
      " 'hausa': 'ha',\n",
      " 'hawaiian': 'haw',\n",
      " 'hebrew': 'he',\n",
      " 'hindi': 'hi',\n",
      " 'hmong': 'hmn',\n",
      " 'hungarian': 'hu',\n",
      " 'icelandic': 'is',\n",
      " 'igbo': 'ig',\n",
      " 'indonesian': 'id',\n",
      " 'irish': 'ga',\n",
      " 'italian': 'it',\n",
      " 'japanese': 'ja',\n",
      " 'javanese': 'jw',\n",
      " 'kannada': 'kn',\n",
      " 'kazakh': 'kk',\n",
      " 'khmer': 'km',\n",
      " 'korean': 'ko',\n",
      " 'kurdish (kurmanji)': 'ku',\n",
      " 'kyrgyz': 'ky',\n",
      " 'lao': 'lo',\n",
      " 'latin': 'la',\n",
      " 'latvian': 'lv',\n",
      " 'lithuanian': 'lt',\n",
      " 'luxembourgish': 'lb',\n",
      " 'macedonian': 'mk',\n",
      " 'malagasy': 'mg',\n",
      " 'malay': 'ms',\n",
      " 'malayalam': 'ml',\n",
      " 'maltese': 'mt',\n",
      " 'maori': 'mi',\n",
      " 'marathi': 'mr',\n",
      " 'mongolian': 'mn',\n",
      " 'myanmar (burmese)': 'my',\n",
      " 'nepali': 'ne',\n",
      " 'norwegian': 'no',\n",
      " 'odia': 'or',\n",
      " 'pashto': 'ps',\n",
      " 'persian': 'fa',\n",
      " 'polish': 'pl',\n",
      " 'portuguese': 'pt',\n",
      " 'punjabi': 'pa',\n",
      " 'romanian': 'ro',\n",
      " 'russian': 'ru',\n",
      " 'samoan': 'sm',\n",
      " 'scots gaelic': 'gd',\n",
      " 'serbian': 'sr',\n",
      " 'sesotho': 'st',\n",
      " 'shona': 'sn',\n",
      " 'sindhi': 'sd',\n",
      " 'sinhala': 'si',\n",
      " 'slovak': 'sk',\n",
      " 'slovenian': 'sl',\n",
      " 'somali': 'so',\n",
      " 'spanish': 'es',\n",
      " 'sundanese': 'su',\n",
      " 'swahili': 'sw',\n",
      " 'swedish': 'sv',\n",
      " 'tajik': 'tg',\n",
      " 'tamil': 'ta',\n",
      " 'telugu': 'te',\n",
      " 'thai': 'th',\n",
      " 'turkish': 'tr',\n",
      " 'ukrainian': 'uk',\n",
      " 'urdu': 'ur',\n",
      " 'uyghur': 'ug',\n",
      " 'uzbek': 'uz',\n",
      " 'vietnamese': 'vi',\n",
      " 'welsh': 'cy',\n",
      " 'xhosa': 'xh',\n",
      " 'yiddish': 'yi',\n",
      " 'yoruba': 'yo',\n",
      " 'zulu': 'zu'}\n"
     ]
    }
   ],
   "source": [
    "import googletrans\n",
    "from pprint import pprint\n",
    "pprint(googletrans.LANGCODES)"
   ]
  },
  {
   "cell_type": "code",
   "execution_count": 14,
   "id": "e0d15bd3-68a2-4fe7-ad3d-df76d2790efe",
   "metadata": {},
   "outputs": [
    {
     "name": "stdout",
     "output_type": "stream",
     "text": [
      "Detected(lang=fr, confidence=0.8920576)\n",
      "fr\n"
     ]
    }
   ],
   "source": [
    "unknown_sentence=\"Un peu de désespoir s'accumule et fait grandir les gens\"\n",
    "results=translator.detect(unknown_sentence)\n",
    "print(results)\n",
    "print(results.lang)"
   ]
  },
  {
   "cell_type": "code",
   "execution_count": null,
   "id": "66da8821-f3ee-4743-aaa4-f908f9665e3d",
   "metadata": {},
   "outputs": [],
   "source": []
  }
 ],
 "metadata": {
  "kernelspec": {
   "display_name": "Python 3 (ipykernel)",
   "language": "python",
   "name": "python3"
  },
  "language_info": {
   "codemirror_mode": {
    "name": "ipython",
    "version": 3
   },
   "file_extension": ".py",
   "mimetype": "text/x-python",
   "name": "python",
   "nbconvert_exporter": "python",
   "pygments_lexer": "ipython3",
   "version": "3.11.7"
  }
 },
 "nbformat": 4,
 "nbformat_minor": 5
}
